{
 "cells": [
  {
   "attachments": {},
   "cell_type": "markdown",
   "metadata": {},
   "source": [
    "## In this Colab we:\n",
    "1. import list of latin names (ex. emma, justin etc.)\n",
    "1. prepare & encode data\n",
    "    - 'emma' : [e  m  m] -> [a]\n",
    "    - tensor : [5 13 13] -> [1]\n",
    "    - split train-dev-test\n",
    "\n",
    "1. Define 'lego-block' classes for NN\n",
    "1. initialize trainable embedding matrix C.shape = [vocab_size(27) , **EMB_SIZE** (2)]\n",
    "    - map any of 27 letter encodings to its embedding. ex. [0] -> [0.14, 2.14, -1.65, 0.76]\n",
    "1. Initialize trainable architecture:\n",
    "    - z = emb @ hidden_W + hidden_b\n",
    "        - z = BatchNorm(z)?\n",
    "    - h = tanh(z)\n",
    "    - logits = h @ out_W + out_b\n",
    "    - F.cross_entropy(logits, Y_true)\n",
    "1. train for **N_EPOCHS**\n",
    "1. Compute train & dev loss. Vizualize it\n",
    "\n",
    "## Result:\n",
    "1. vizualize smart initialization improvements:\n",
    "    - 0.1 * hidden_W\n",
    "    - 0.01 * out_W\n",
    "2. vizualize motivation for 1/sqrt(N) normalization\n",
    "3. introduce **BatchNorm** and discuss its keypoints"
   ]
  },
  {
   "cell_type": "code",
   "execution_count": 3,
   "metadata": {},
   "outputs": [
    {
     "name": "stdout",
     "output_type": "stream",
     "text": [
      "The autoreload extension is already loaded. To reload it, use:\n",
      "  %reload_ext autoreload\n"
     ]
    }
   ],
   "source": [
    "import torch\n",
    "import torch.nn.functional as F\n",
    "import matplotlib.pyplot as plt\n",
    "from sklearn.model_selection import train_test_split\n",
    "\n",
    "from zero2hero import makemore\n",
    "\n",
    "%load_ext autoreload\n",
    "%autoreload 2\n"
   ]
  },
  {
   "cell_type": "code",
   "execution_count": 4,
   "metadata": {},
   "outputs": [
    {
     "name": "stdout",
     "output_type": "stream",
     "text": [
      "len(words)=32033\n"
     ]
    },
    {
     "data": {
      "text/plain": [
       "['emma', 'olivia', 'ava', 'isabella', 'sophia', 'charlotte', 'mia']"
      ]
     },
     "execution_count": 4,
     "metadata": {},
     "output_type": "execute_result"
    }
   ],
   "source": [
    "words = open('../docs/names.txt', 'r').read().splitlines()\n",
    "print(f'{len(words)=}')\n",
    "words[:7]"
   ]
  },
  {
   "cell_type": "code",
   "execution_count": 6,
   "metadata": {},
   "outputs": [],
   "source": [
    "# build vocab + vLook-Up tables\n",
    "chars = sorted(list(set(''.join(words))))\n",
    "stoi = {s:i+1 for i,s in enumerate(chars)}\n",
    "stoi['.'] = 0\n",
    "itos = {i:s for s,i in stoi.items()}\n",
    "\n",
    "vocab_size = len(chars + ['.'])"
   ]
  },
  {
   "cell_type": "code",
   "execution_count": 14,
   "metadata": {},
   "outputs": [
    {
     "name": "stdout",
     "output_type": "stream",
     "text": [
      "Example X[0]:\n",
      "['e', 'm', 'm'] -> 'a'\n",
      "tensor([0, 0, 0]) -> 5\n",
      " X_train.shape=torch.Size([184797, 3]) \n",
      " y_train.shape=torch.Size([184797])\n",
      " y_dev.shape=torch.Size([20534]) \n",
      " y_test.shape=torch.Size([22815])\n"
     ]
    }
   ],
   "source": [
    "WINDOW = 3          # how many previous element to consider\n",
    "\n",
    "# BUILD DATA given WINDOW size\n",
    "\n",
    "# example 'emma', WINDOW == 3\n",
    "# context -> output  |  torch.tensor:\n",
    "#  [...]  -> 'e'     |  [ 0, 0, 0] -> [5]\n",
    "#  [..e]  -> 'm'     |  [ 0, 0, 5] -> [13]\n",
    "#  [.em]  -> 'm'     |  [ 0, 5,13] -> [13]\n",
    "#  [emm]  -> 'a'     |  [ 5,13,13] -> [1]\n",
    "#  [mma]  -> '.'     |  [13,13, 1] -> [0]\n",
    "\n",
    "\n",
    "X, Y = [], []\n",
    "\n",
    "for w in words:\n",
    "\n",
    "    context = [0] * WINDOW\n",
    "    for ch in w + '.' :\n",
    "        ix = stoi[ch]\n",
    "        X.append(context)\n",
    "        Y.append(ix)\n",
    "\n",
    "        context = context[1:] + [ix] # update context\n",
    "\n",
    "X = torch.tensor(X)\n",
    "Y = torch.tensor(Y)\n",
    "\n",
    "X_train, X_test, y_train, y_test = train_test_split(X, Y, test_size=0.1, random_state=42)\n",
    "X_train, X_dev, y_train, y_dev = train_test_split(X_train, y_train, test_size=0.1, random_state=42)\n",
    "\n",
    "print('Example X[0]:')\n",
    "print(f\"{list(words[0][:-1])} -> '{words[0][-1]}'\")\n",
    "print(f'{X[0]} -> {Y[0]}')\n",
    "print(f'{ X_train.shape=} \\n{ y_train.shape=}')\n",
    "print(f'{ y_dev.shape=} \\n{ y_test.shape=}')"
   ]
  },
  {
   "attachments": {},
   "cell_type": "markdown",
   "metadata": {},
   "source": [
    "### Create simple Embeddings & Neural Network"
   ]
  },
  {
   "cell_type": "code",
   "execution_count": 33,
   "metadata": {},
   "outputs": [
    {
     "name": "stdout",
     "output_type": "stream",
     "text": [
      "Total number of parameters:\n"
     ]
    },
    {
     "data": {
      "text/plain": [
       "12097"
      ]
     },
     "execution_count": 33,
     "metadata": {},
     "output_type": "execute_result"
    }
   ],
   "source": [
    "EMB_SIZE = 10        # dimention of embedding space\n",
    "HIDDEN_SIZE = 200   # size of hidden layer\n",
    "\n",
    "# BUILD ARCHITECTURE\n",
    "layers = [\n",
    "    makemore.nn.Embeddings(vocab_size, HIDDEN_SIZE),\n",
    "    makemore.nn.Flatten(),\n",
    "    makemore.nn.Linear(EMB_SIZE * WINDOW, HIDDEN_SIZE, bias=False),\n",
    "    makemore.nn.BatchNorm1d(HIDDEN_SIZE),\n",
    "    makemore.nn.Tanh(),\n",
    "    makemore.nn.Linear(HIDDEN_SIZE, vocab_size),\n",
    "]\n",
    "\n",
    "# stable initialization \n",
    "with torch.no_grad():\n",
    "    layers[-1].weight *= 0.1 # less confident last layer\n",
    "                       # non-trainable (data-dependent)\n",
    "\n",
    "parameters = [C] + [p for layer in layers for p in layer.parameters()]\n",
    "for p in parameters:\n",
    "    p.requires_grad = True\n",
    "\n",
    "print('Total number of parameters:')\n",
    "sum(p.nelement() for p in parameters)"
   ]
  },
  {
   "cell_type": "code",
   "execution_count": 34,
   "metadata": {},
   "outputs": [
    {
     "name": "stdout",
     "output_type": "stream",
     "text": [
      "epoch=0/200000 : 3.3194\n",
      "epoch=10000/200000 : 2.1828\n",
      "epoch=20000/200000 : 2.1836\n",
      "epoch=30000/200000 : 2.1523\n",
      "epoch=40000/200000 : 1.8448\n",
      "epoch=50000/200000 : 2.2708\n",
      "epoch=60000/200000 : 2.3401\n",
      "epoch=70000/200000 : 2.1908\n",
      "epoch=80000/200000 : 2.0111\n",
      "epoch=90000/200000 : 2.2985\n",
      "epoch=100000/200000 : 1.9976\n",
      "epoch=110000/200000 : 2.2641\n",
      "epoch=120000/200000 : 1.9540\n",
      "epoch=130000/200000 : 1.8152\n"
     ]
    }
   ],
   "source": [
    "# training params\n",
    "LR = 0.1\n",
    "N_EPOCHS = 200000\n",
    "BATCH_SIZE = 32\n",
    "\n",
    "loglossi = []\n",
    "\n",
    "for epoch in range(N_EPOCHS):\n",
    "\n",
    "    # -------- Forward-pass ---------------\n",
    "\n",
    "    # mini batch\n",
    "    ixs = torch.randint(0, X_train.shape[0], (BATCH_SIZE,),)\n",
    "\n",
    "    # train embeddings\n",
    "    emb = C[X_train[ixs]]                           # (batch, window, emb) ex. (32, 3, 10)\n",
    "    x = emb.view(-1, WINDOW*EMB_SIZE)             #  (batch, window*emb) ex. (32, 30)\n",
    "\n",
    "    for layer in layers:\n",
    "        x = layer(x)\n",
    "\n",
    "    # compute the loss\n",
    "    loss = F.cross_entropy(x, y_train[ixs])\n",
    "    \n",
    "    # training\n",
    "    for p in parameters:\n",
    "        p.grad = None\n",
    "    loss.backward()\n",
    "\n",
    "    #update\n",
    "    lr = LR if epoch < 1//2 * N_EPOCHS else 0.1 * LR\n",
    "    for p in parameters:\n",
    "        p.data += -lr * p.grad\n",
    "    \n",
    "    # track proress\n",
    "    if epoch % 10000 == 0:\n",
    "        print(f'{epoch=}/{N_EPOCHS} : {loss.item():.4f}')\n",
    "    loglossi.append(loss.log10().item())\n",
    "    "
   ]
  },
  {
   "cell_type": "code",
   "execution_count": null,
   "metadata": {},
   "outputs": [
    {
     "data": {
      "text/plain": [
       "[<matplotlib.lines.Line2D at 0x7fd94aa14790>]"
      ]
     },
     "execution_count": 31,
     "metadata": {},
     "output_type": "execute_result"
    },
    {
     "data": {
      "image/png": "[encoded data removed]",
      "text/plain": [
       "<Figure size 640x480 with 1 Axes>"
      ]
     },
     "metadata": {},
     "output_type": "display_data"
    }
   ],
   "source": [
    "smooth_loss = torch.tensor(loglossi).view(-1, 1000).mean(1)\n",
    "plt.plot(smooth_loss)"
   ]
  },
  {
   "cell_type": "code",
   "execution_count": null,
   "metadata": {},
   "outputs": [
    {
     "name": "stdout",
     "output_type": "stream",
     "text": [
      "trainloss.item()=2.108356475830078\n",
      "testloss.item()=2.1450695991516113\n"
     ]
    }
   ],
   "source": [
    "# switch to test mode\n",
    "for layer in layers:\n",
    "    layer.training = False\n",
    "\n",
    "# compute loss score\n",
    "@torch.no_grad()\n",
    "def get_loss(split):\n",
    "    assert split in ['train', 'dev', 'test'], f'{split} not yet supported'\n",
    "    x,y = {\n",
    "        'train' : (X_train, y_train),\n",
    "        'dev'   : (X_dev, y_dev),\n",
    "        'test'  : (X_test, y_test)\n",
    "    }[split]\n",
    "\n",
    "    emb = C[x]\n",
    "    x = emb.view(-1, WINDOW * EMB_SIZE)\n",
    "    for layer in layers:\n",
    "        x = layer(x)\n",
    "    \n",
    "    loss = F.cross_entropy(x, y)\n",
    "    print(f'{split}{loss.item()=}')\n",
    "\n",
    "\n",
    "get_loss('train')\n",
    "get_loss('test')\n",
    "\n",
    "# original train (2.12) dev (2.16)\n",
    "# fix over-softmax train (2.07) dev (2.13)\n",
    "# fix saturated tanh train (2.037) dev (2.106)\n",
    "# add Batch Norm train (2.06) dev (2.109)"
   ]
  },
  {
   "cell_type": "code",
   "execution_count": null,
   "metadata": {},
   "outputs": [],
   "source": [
    "# Sample\n",
    "\n",
    "for _ in range(20):\n",
    "\n",
    "    out = []\n",
    "    context = [0] * WINDOW\n",
    "    while True:\n",
    "        emb = C[torch.tensor(context)]\n",
    "        emb = emb.view(1, -1)\n",
    "        if BATCH_NORM:\n",
    "            z = bn_gain * (emb @ hidden_W - bn_mean) / bn_std + bn_bias\n",
    "        else:\n",
    "            z = emb @ hidden_W + hidden_b\n",
    "        h = torch.tanh(z)\n",
    "        logits = h @ out_W + out_b\n",
    "        probs = F.softmax(logits, dim=1)\n",
    "        ix = torch.multinomial(probs, num_samples=1, generator=g).item()\n",
    "        context = context[1:] + [ix]\n",
    "        out.append(ix)\n",
    "        if ix == 0:\n",
    "            break\n",
    "    print(''.join(itos[i] for i in out))"
   ]
  },
  {
   "attachments": {},
   "cell_type": "markdown",
   "metadata": {},
   "source": [
    "## Extra notes\n",
    "\n",
    "### BatchNorm - helps stabilize the training of Deep NN\n",
    "- for the first epoch, hidden sum func (aka z) is exactly ~ N(0,1). Then we learn gain*N(0,1) + bias\n",
    "\n",
    "- mathematically, update of one particular neuron depends on other neurons in the given batch\n",
    "\n",
    "    it creates leakage of gradient to other neurons due to substract & divide from normalization :(\n",
    "\n",
    "- in PyTorch, torch.nn.BatchNorm1d internally keeps track of \"running\" mean and std, so don't forget to model.eva() during inference.\n",
    "\n",
    "- for Linear layer (z = emb @ W + b), bias (b) becomes useless as we normalize (z) afterwards. So drop it off from architecture. **bn bias** replaces it"
   ]
  },
  {
   "cell_type": "markdown",
   "metadata": {},
   "source": []
  }
 ],
 "metadata": {
  "kernelspec": {
   "display_name": "venvai",
   "language": "python",
   "name": "python3"
  },
  "language_info": {
   "codemirror_mode": {
    "name": "ipython",
    "version": 3
   },
   "file_extension": ".py",
   "mimetype": "text/x-python",
   "name": "python",
   "nbconvert_exporter": "python",
   "pygments_lexer": "ipython3",
   "version": "3.10.6"
  },
  "vscode": {
   "interpreter": {
    "hash": "0159b81555e194df7357f3ec66ac7a725116f7bdd06d05856166e90d27da3b92"
   }
  }
 },
 "nbformat": 4,
 "nbformat_minor": 4
}
