{
 "cells": [
  {
   "attachments": {},
   "cell_type": "markdown",
   "metadata": {},
   "source": [
    "## In this Colab we:\n",
    "1. import list of latin names (ex. emma, justin etc.)\n",
    "2. prepare & encode data\n",
    "    - 'emma' : [e  m  m] -> [a]\n",
    "    - tensor : [5 13 13] -> [1]\n",
    "    - split train-dev-test\n",
    "3. initialize trainable embedding matrix C.shape = [vocab_size(27) , **EMB_SIZE** (2)]\n",
    "    - map any of 27 letter encodings to its embedding. ex. [0] -> [0.1488, 2.1415]\n",
    "4. Initialize trainable architecture:\n",
    "    - h = tanh(BatchNorm[emb @ hidden_W + hidden_b])\n",
    "    - logits = h @ out_W + out_b\n",
    "    - F.cross_entropy(logits, Y_true)\n",
    "5. train for **N_EPOCHS**\n",
    "6. Compute train & dev loss. Vizualize it\n",
    "\n",
    "## Result:\n",
    "- vizualize embeddings (UMAP-reduced to 2D)\n",
    "- sample new names"
   ]
  },
  {
   "cell_type": "code",
   "execution_count": 11,
   "metadata": {},
   "outputs": [],
   "source": [
    "import torch\n",
    "import torch.nn.functional as F\n",
    "import matplotlib.pyplot as plt\n",
    "from sklearn.model_selection import train_test_split\n"
   ]
  },
  {
   "cell_type": "code",
   "execution_count": 12,
   "metadata": {},
   "outputs": [],
   "source": [
    "WINDOW = 3          # how many previous element to consider\n",
    "\n",
    "# architecture\n",
    "EMB_SIZE = 10        # dimention of embedding space\n",
    "HIDDEN_SIZE = 200   # size of hidden layer"
   ]
  },
  {
   "cell_type": "code",
   "execution_count": 13,
   "metadata": {},
   "outputs": [
    {
     "name": "stdout",
     "output_type": "stream",
     "text": [
      "len(words)=32033\n"
     ]
    },
    {
     "data": {
      "text/plain": [
       "['emma', 'olivia', 'ava', 'isabella', 'sophia', 'charlotte', 'mia']"
      ]
     },
     "execution_count": 13,
     "metadata": {},
     "output_type": "execute_result"
    }
   ],
   "source": [
    "words = open('../docs/names.txt', 'r').read().splitlines()\n",
    "print(f'{len(words)=}')\n",
    "words[:7]"
   ]
  },
  {
   "cell_type": "code",
   "execution_count": 14,
   "metadata": {},
   "outputs": [],
   "source": [
    "# build vocab + vLook-Up tables\n",
    "chars = sorted(list(set(''.join(words))))\n",
    "stoi = {s:i+1 for i,s in enumerate(chars)}\n",
    "stoi['.'] = 0\n",
    "itos = {i:s for s,i in stoi.items()}\n",
    "\n",
    "vocab_size = len(chars + ['.'])"
   ]
  },
  {
   "cell_type": "code",
   "execution_count": 15,
   "metadata": {},
   "outputs": [
    {
     "name": "stdout",
     "output_type": "stream",
     "text": [
      "Example X[0]: \n",
      "tensor([0, 0, 0]) -> 5\n",
      "\n",
      "X_train.shape=torch.Size([184797, 3]) \n",
      "y_train.shape=torch.Size([184797])\n"
     ]
    }
   ],
   "source": [
    "# BUILD DATA given WINDOW size\n",
    "\n",
    "# example 'emma', WINDOW == 3\n",
    "# context -> output  |  torch.tensor:\n",
    "#  [...]  -> 'e'     |  [ 0, 0, 0] -> [5]\n",
    "#  [..e]  -> 'm'     |  [ 0, 0, 5] -> [13]\n",
    "#  [.em]  -> 'm'     |  [ 0, 5,13] -> [13]\n",
    "#  [emm]  -> 'a'     |  [ 5,13,13] -> [1]\n",
    "#  [mma]  -> '.'     |  [13,13, 1] -> [0]\n",
    "\n",
    "\n",
    "X, Y = [], []\n",
    "\n",
    "for w in words:\n",
    "\n",
    "    context = [0] * WINDOW\n",
    "    for ch in w + '.' :\n",
    "        ix = stoi[ch]\n",
    "        X.append(context)\n",
    "        Y.append(ix)\n",
    "\n",
    "        context = context[1:] + [ix] # update context\n",
    "\n",
    "X = torch.tensor(X)\n",
    "Y = torch.tensor(Y)\n",
    "\n",
    "X_train, X_test, y_train, y_test = train_test_split(X, Y, test_size=0.1, random_state=42)\n",
    "X_train, X_dev, y_train, y_dev = train_test_split(X_train, y_train, test_size=0.1, random_state=42)\n",
    "\n",
    "print(f'Example X[0]: \\n{X[0]} -> {Y[0]}\\n')\n",
    "print(f'{X_train.shape=} \\n{y_train.shape=}')"
   ]
  },
  {
   "attachments": {},
   "cell_type": "markdown",
   "metadata": {},
   "source": [
    "### Create simple Embeddings & Neural Network"
   ]
  },
  {
   "cell_type": "code",
   "execution_count": 34,
   "metadata": {},
   "outputs": [
    {
     "name": "stdout",
     "output_type": "stream",
     "text": [
      "Total number of parameters:\n"
     ]
    },
    {
     "data": {
      "text/plain": [
       "12297"
      ]
     },
     "execution_count": 34,
     "metadata": {},
     "output_type": "execute_result"
    }
   ],
   "source": [
    "g = torch.Generator().manual_seed(2147483647)\n",
    "\n",
    "# BUILD EMBEDDINGS (aka vlook-up)\n",
    "C = torch.randn((vocab_size,EMB_SIZE),              generator=g)# untrained\n",
    "\n",
    "# BUILD HIDDEN LAYER\n",
    "hidden_W=torch.randn((WINDOW*EMB_SIZE, HIDDEN_SIZE),generator=g)# untrained\n",
    "hidden_b = torch.randn(HIDDEN_SIZE,                 generator=g)# untrained\n",
    "\n",
    "# BUILD OUT LAYER\n",
    "out_W = torch.randn((HIDDEN_SIZE, vocab_size),      generator=g)# untrained\n",
    "out_b = torch.randn(vocab_size,                     generator=g)# untrained\n",
    "\n",
    "# stable initialization \n",
    "init_const = (WINDOW*EMB_SIZE)**0.5 # aka sqrt(N)\n",
    "hidden_W /= init_const # avoid dead hidden activation\n",
    "hidden_b /= init_const # avoid dead hidden activation\n",
    "out_W    /= init_const # avoid over-confident mis-prediction\n",
    "out_b    *= 0.0        # avoid over-confident mis-prediction\n",
    "\n",
    "# batch normalization\n",
    "bn_gain = torch.ones((1, HIDDEN_SIZE))                      # untrained\n",
    "bn_bias = torch.zeros((1, HIDDEN_SIZE))                     # untrained\n",
    "\n",
    "bn_mean = torch.zeros((1, HIDDEN_SIZE),requires_grad=False) # non-trainable\n",
    "bn_std  = torch.ones((1, HIDDEN_SIZE), requires_grad=False) # non-trainable\n",
    "\n",
    "\n",
    "parameters = [C, hidden_W, hidden_b, out_W, out_b, bn_gain, bn_bias]\n",
    "for p in parameters:\n",
    "    p.requires_grad = True\n",
    "\n",
    "print('Total number of parameters:')\n",
    "sum(p.nelement() for p in parameters)"
   ]
  },
  {
   "cell_type": "code",
   "execution_count": 32,
   "metadata": {},
   "outputs": [],
   "source": [
    "# training params\n",
    "LR = 0.1\n",
    "N_EPOCHS = 200000\n",
    "BATCH_SIZE = 32\n",
    "\n",
    "loglossi = []\n",
    "first_init = False\n",
    "\n",
    "for epoch in range(2):\n",
    "\n",
    "    # -------- Forward-pass ---------------\n",
    "\n",
    "    # mini batch\n",
    "    ixs = torch.randint(0, X_train.shape[0], (BATCH_SIZE,),generator=g)\n",
    "\n",
    "    # train embeddings\n",
    "    emb = C[X_train[ixs]]                          # (N, 3, 2)\n",
    "    emb = emb.view(-1, WINDOW*EMB_SIZE) #  concat by tokens -> (N , 6) \n",
    "\n",
    "    # train Hidden Layer\n",
    "    #   1. sum func\n",
    "    z = emb @ hidden_W + hidden_b\n",
    "    #   2. batch norm\n",
    "    z_mean = z.mean(0, keepdim=True)\n",
    "    z_std = z.std(0, keepdim=True)\n",
    "    z = bn_gain * (z - z_mean) / z_std + bn_bias\n",
    "    with torch.no_grad(): # update running batch-norm mean & std (for inference)\n",
    "        bn_mean = 0.999 * bn_mean + 0.001 * z_mean\n",
    "        bn_std  = 0.999 * bn_std  + 0.001 * z_std\n",
    "\n",
    "    #   3. non-linearity\n",
    "    h = torch.tanh(z)\n",
    "\n",
    "    # train Output Layer\n",
    "    logits = h @ out_W + out_b\n",
    "\n",
    "    # compute the loss\n",
    "    loss = F.cross_entropy(logits, y_train[ixs])\n",
    "\n",
    "    loglossi.append(loss.log10().item())\n",
    "    if not first_init:\n",
    "        with torch.no_grad():\n",
    "            first_init = True\n",
    "            z_tgt = z.view(-1).tolist()\n",
    "            h_tgt = h.view(-1).tolist()\n",
    "            loss0_tgt = loss.item()\n",
    "\n",
    "            _h_ref = torch.tanh(emb @ hidden_W * init_const + hidden_b * init_const)\n",
    "            h_ref = _h_ref.view(-1).tolist()\n",
    "\n",
    "            logits_ref= _h_ref @ out_W * init_const + out_b\n",
    "            loss0_ref = F.cross_entropy(logits_ref, y_train[ixs])\n",
    "    \n",
    "    # training\n",
    "    for p in parameters:\n",
    "        p.grad = None\n",
    "    loss.backward()\n",
    "\n",
    "    lr = LR if epoch < N_EPOCHS//2 else 0.1 * LR\n",
    "\n",
    "    #update\n",
    "    for p in parameters:\n",
    "        p.data += -lr * p.grad"
   ]
  },
  {
   "attachments": {},
   "cell_type": "markdown",
   "metadata": {},
   "source": [
    "## Motivation N.1 :\n",
    "**Dead hidden activation -> SLOW initial learning**"
   ]
  },
  {
   "cell_type": "code",
   "execution_count": 33,
   "metadata": {},
   "outputs": [
    {
     "data": {
      "text/plain": [
       "<matplotlib.legend.Legend at 0x7fa090fcf430>"
      ]
     },
     "execution_count": 33,
     "metadata": {},
     "output_type": "execute_result"
    },
    {
     "data": {
      "image/png": "[encoded data removed]",
      "text/plain": [
       "<Figure size 640x480 with 1 Axes>"
      ]
     },
     "metadata": {},
     "output_type": "display_data"
    }
   ],
   "source": [
    "plt.hist(h_tgt, 50, label='improved hidden')\n",
    "plt.hist(h_ref, 50, label='hidden ref')\n",
    "# plt.hist(z_tgt, 50, label='sum func z')\n",
    "plt.title('Histograms of hidden state ')\n",
    "plt.xlabel('50 bins of values')\n",
    "plt.ylabel('number of items in every bin')\n",
    "plt.legend()"
   ]
  },
  {
   "attachments": {},
   "cell_type": "markdown",
   "metadata": {},
   "source": [
    "## Motivation N.2 :\n",
    "**Over-condifent mis-prediction -> HIGH initial loss**"
   ]
  },
  {
   "cell_type": "code",
   "execution_count": 129,
   "metadata": {},
   "outputs": [
    {
     "data": {
      "text/plain": [
       "<matplotlib.legend.Legend at 0x7fc3c6a0b730>"
      ]
     },
     "execution_count": 129,
     "metadata": {},
     "output_type": "execute_result"
    },
    {
     "data": {
      "image/png": "[encoded data removed]",
      "text/plain": [
       "<Figure size 640x480 with 1 Axes>"
      ]
     },
     "metadata": {},
     "output_type": "display_data"
    }
   ],
   "source": [
    "plt.bar(0, loss0_tgt, width=0.2, label='with init norm')\n",
    "plt.bar(1,loss0_ref, width=0.2, label='no init norm')\n",
    "plt.xticks([], [])\n",
    "plt.title('Very first Loss')\n",
    "plt.legend()\n"
   ]
  },
  {
   "attachments": {},
   "cell_type": "markdown",
   "metadata": {},
   "source": [
    "## Motivation N.3 :\n",
    "**Dot-product of two Standard Norm Dist -> EXPENDED Dist**"
   ]
  },
  {
   "cell_type": "code",
   "execution_count": 139,
   "metadata": {},
   "outputs": [
    {
     "data": {
      "text/plain": [
       "Text(0.5, -0.5, 'Result: for Stability Normalize Weights by $\\\\sqrt{N}$')"
      ]
     },
     "execution_count": 139,
     "metadata": {},
     "output_type": "execute_result"
    },
    {
     "data": {
      "image/png": "[encoded data removed]",
      "text/plain": [
       "<Figure size 600x600 with 4 Axes>"
      ]
     },
     "metadata": {},
     "output_type": "display_data"
    }
   ],
   "source": [
    "# Consider other example:\n",
    "x = torch.randn(1000, 10)\n",
    "w = torch.randn(10, 200)\n",
    "w_norm = w / 10**0.5\n",
    "y = x @ w\n",
    "\n",
    "plt.figure(figsize=(6,6))\n",
    "plt.subplot(411)\n",
    "plt.hist(x.view(-1).tolist(), 50, label='Dist of X ~ N(0,1)');plt.legend()\n",
    "plt.title('Dot-product of two N(0,1) explodes', y=1.2)\n",
    "plt.subplot(412)\n",
    "plt.hist(w.view(-1).tolist(), 50, label='Dist of W~N(0,1)');plt.legend()\n",
    "plt.subplot(413)\n",
    "plt.hist(y.view(-1).tolist(), 50, label='Dist of X @ W');plt.legend()\n",
    "\n",
    "y_norm = x @ w_norm\n",
    "plt.subplot(414)\n",
    "plt.hist(y_norm.view(-1).tolist(), 50, label='Dist of X @ W_norm')\n",
    "plt.legend()\n",
    "plt.title('Result: for Stability Normalize Weights by $\\\\sqrt{N}$', y=-.5)"
   ]
  },
  {
   "cell_type": "code",
   "execution_count": 131,
   "metadata": {},
   "outputs": [
    {
     "name": "stdout",
     "output_type": "stream",
     "text": [
      "trainloss.item()=2.0350077152252197\n",
      "devloss.item()=2.105480670928955\n"
     ]
    }
   ],
   "source": [
    "# compute loss score\n",
    "@torch.no_grad()\n",
    "def get_loss(split):\n",
    "    assert split in ['train', 'dev', 'test'], f'{split} not yet supported'\n",
    "    x,y = {\n",
    "        'train' : (X_train, y_train),\n",
    "        'dev'   : (X_dev, y_dev),\n",
    "        'test'  : (X_test, y_test)\n",
    "    }[split]\n",
    "\n",
    "    emb = C[x]\n",
    "    emb = emb.view(-1, WINDOW * EMB_SIZE)\n",
    "    h = torch.tanh(emb @ hidden_W + hidden_b)\n",
    "    logits = h @ out_W + out_b\n",
    "    loss = F.cross_entropy(logits, y)\n",
    "    print(f'{split}{loss.item()=}')\n",
    "\n",
    "\n",
    "get_loss('train')\n",
    "get_loss('dev')\n",
    "# best train (2.03) best dev (2.10)"
   ]
  },
  {
   "cell_type": "code",
   "execution_count": 132,
   "metadata": {},
   "outputs": [
    {
     "name": "stdout",
     "output_type": "stream",
     "text": [
      "wiler.\n",
      "keyler.\n",
      "aaro.\n",
      "covton.\n",
      "farathaya.\n",
      "kheilida.\n",
      "khariel.\n",
      "poetu.\n",
      "bas.\n",
      "xar.\n",
      "sri.\n",
      "koeregg.\n",
      "korritt.\n",
      "ceceren.\n",
      "makin.\n",
      "madali.\n",
      "yurletizheer.\n",
      "delothavla.\n",
      "faory.\n",
      "emid.\n"
     ]
    }
   ],
   "source": [
    "# Sample\n",
    "\n",
    "for _ in range(20):\n",
    "\n",
    "    out = []\n",
    "    context = [0] * WINDOW\n",
    "    while True:\n",
    "        emb = C[torch.tensor(context)]\n",
    "        emb = emb.view(1, -1)\n",
    "        h = torch.tanh(emb @ hidden_W + hidden_b)\n",
    "        logits = h @ out_W + out_b\n",
    "        probs = F.softmax(logits, dim=1)\n",
    "        ix = torch.multinomial(probs, num_samples=1, generator=g).item()\n",
    "        context = context[1:] + [ix]\n",
    "        out.append(ix)\n",
    "        if ix == 0:\n",
    "            break\n",
    "    print(''.join(itos[i] for i in out))"
   ]
  },
  {
   "cell_type": "code",
   "execution_count": null,
   "metadata": {},
   "outputs": [],
   "source": []
  },
  {
   "attachments": {},
   "cell_type": "markdown",
   "metadata": {},
   "source": [
    "## Extra notes\n",
    "\n",
    "### BatchNorm\n",
    "- at the very first pass, hidden sum func (z) is exactly ~ N(0,1)\n",
    "- then NN learns the gain and bias of BatchNorm aka ~N(batchnorm_gain, bathcnorm_bias)\n",
    "- mathematically, update of one particular neuron depends on other neurons in the given batch\n",
    "    - it also creates gradient leakage as substract-divide (aka norm) is differentiatiable.\n",
    "- in PyTorch, torch.BatchNorm internally keeps track of \"running\" mean and std, so don't forget to model.eva() during inference.\n",
    "- for Linear layer (z = emb @ W + b), bias (b) becomes useless as we normalize (z) afterwards. So drop it off from architecture."
   ]
  },
  {
   "cell_type": "markdown",
   "metadata": {},
   "source": []
  }
 ],
 "metadata": {
  "kernelspec": {
   "display_name": "venvai",
   "language": "python",
   "name": "python3"
  },
  "language_info": {
   "codemirror_mode": {
    "name": "ipython",
    "version": 3
   },
   "file_extension": ".py",
   "mimetype": "text/x-python",
   "name": "python",
   "nbconvert_exporter": "python",
   "pygments_lexer": "ipython3",
   "version": "3.10.6"
  },
  "vscode": {
   "interpreter": {
    "hash": "0159b81555e194df7357f3ec66ac7a725116f7bdd06d05856166e90d27da3b92"
   }
  }
 },
 "nbformat": 4,
 "nbformat_minor": 4
}
