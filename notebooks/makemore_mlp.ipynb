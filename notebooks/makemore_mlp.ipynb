{
 "cells": [
  {
   "attachments": {},
   "cell_type": "markdown",
   "metadata": {},
   "source": [
    "## In this Colab we:\n",
    "- 1\n",
    "- 2\n",
    "\n",
    "## Result:\n",
    "- 1\n",
    "- 2"
   ]
  },
  {
   "cell_type": "code",
   "execution_count": 30,
   "metadata": {},
   "outputs": [],
   "source": [
    "import torch\n",
    "import torch.nn.functional as F\n",
    "import matplotlib.pyplot as plt"
   ]
  },
  {
   "cell_type": "code",
   "execution_count": 51,
   "metadata": {},
   "outputs": [],
   "source": [
    "# architecture\n",
    "EMB_SIZE = 2        # dimention of embedding space\n",
    "WINDOW = 3          # how many previous element to consider\n",
    "HIDDEN_SIZE = 100   # size of hidden layer\n",
    "# training\n",
    "LR = 0.1\n",
    "N_EPOCHS = 100\n",
    "BATCH_SIZE = 64"
   ]
  },
  {
   "cell_type": "code",
   "execution_count": 3,
   "metadata": {},
   "outputs": [
    {
     "name": "stdout",
     "output_type": "stream",
     "text": [
      "len(words)=32033\n"
     ]
    },
    {
     "data": {
      "text/plain": [
       "['emma', 'olivia', 'ava', 'isabella', 'sophia', 'charlotte', 'mia']"
      ]
     },
     "execution_count": 3,
     "metadata": {},
     "output_type": "execute_result"
    }
   ],
   "source": [
    "words = open('../docs/names.txt', 'r').read().splitlines()\n",
    "print(f'{len(words)=}')\n",
    "words[:7]"
   ]
  },
  {
   "cell_type": "code",
   "execution_count": 4,
   "metadata": {},
   "outputs": [],
   "source": [
    "# build vocab + Loop-Up tables\n",
    "chars = sorted(list(set(''.join(words))))\n",
    "stoi = {s:i+1 for i,s in enumerate(chars)}\n",
    "stoi['.'] = 0\n",
    "itos = {i:s for s,i in stoi.items()}\n",
    "\n",
    "vocab_size = len(chars + ['.'])"
   ]
  },
  {
   "cell_type": "code",
   "execution_count": 5,
   "metadata": {},
   "outputs": [
    {
     "name": "stdout",
     "output_type": "stream",
     "text": [
      "X.shape=torch.Size([228146, 3]) Y.shape=torch.Size([228146])\n"
     ]
    }
   ],
   "source": [
    "# BUILD DATA\n",
    "# ex. 'emma'\n",
    "# context -> output   torch.tensor:\n",
    "#  [...]  -> e        [ 0, 0, 0] -> [5]\n",
    "#  [..e]  -> m        [ 0, 0, 5] -> [13]\n",
    "#  [.em]  -> m        [ 0, 5,13] -> [13]\n",
    "#  [emm]  -> a        [ 5,13,13] -> [1]\n",
    "#  [mma]  -> .        [13,13, 1] -> [0]\n",
    "\n",
    "\n",
    "X, Y = [], []\n",
    "\n",
    "for w in words:\n",
    "\n",
    "    context = [0] * WINDOW\n",
    "    for ch in w + '.' :\n",
    "        ix = stoi[ch]\n",
    "        X.append(context)\n",
    "        Y.append(ix)\n",
    "\n",
    "        context = context[1:] + [ix] # update context\n",
    "\n",
    "X = torch.tensor(X)\n",
    "Y = torch.tensor(Y)\n",
    "print(f'{X.shape=} {Y.shape=}')"
   ]
  },
  {
   "cell_type": "code",
   "execution_count": 59,
   "metadata": {},
   "outputs": [],
   "source": [
    "g = torch.Generator().manual_seed(2147483647)\n",
    "\n",
    "# BUILD EMBEDDINGS (aka loop-up)\n",
    "C = torch.randn((vocab_size,EMB_SIZE)) # untrained\n",
    "\n",
    "# BUILD HIDDEN LAYER\n",
    "hidden_W = torch.randn((WINDOW*EMB_SIZE, HIDDEN_SIZE))\n",
    "hidden_b = torch.randn(HIDDEN_SIZE)\n",
    "\n",
    "# BUILD OUT LAYER\n",
    "out_W = torch.randn((HIDDEN_SIZE, vocab_size))\n",
    "out_b = torch.randn(vocab_size)\n",
    "\n",
    "parameters = [C, hidden_W, hidden_b, out_W, out_b]\n",
    "for p in parameters:\n",
    "    p.requires_grad = True"
   ]
  },
  {
   "cell_type": "code",
   "execution_count": 60,
   "metadata": {},
   "outputs": [
    {
     "name": "stdout",
     "output_type": "stream",
     "text": [
      "loss.data=tensor(14.3273)\n",
      "loss.data=tensor(5.0338)\n",
      "loss.data=tensor(3.0541)\n",
      "loss.data=tensor(2.9878)\n",
      "loss.data=tensor(2.8682)\n",
      "loss.data=tensor(2.7189)\n",
      "loss.data=tensor(2.7376)\n",
      "loss.data=tensor(2.7006)\n",
      "loss.data=tensor(2.9306)\n",
      "loss.data=tensor(2.7773)\n",
      "loss.data=tensor(2.3117)\n",
      "loss.data=tensor(2.4526)\n",
      "loss.data=tensor(2.6149)\n",
      "loss.data=tensor(2.7410)\n",
      "loss.data=tensor(2.4811)\n",
      "loss.data=tensor(2.4871)\n",
      "loss.data=tensor(2.8404)\n",
      "loss.data=tensor(2.6644)\n",
      "loss.data=tensor(2.6711)\n",
      "loss.data=tensor(2.7765)\n"
     ]
    }
   ],
   "source": [
    "for epoch in range(10*N_EPOCHS):\n",
    "\n",
    "    # Forward-pass\n",
    "\n",
    "    # mini batch\n",
    "    ixs = torch.randint(0, X.shape[0], (BATCH_SIZE,))\n",
    "\n",
    "    emb = C[X[ixs]]                          # (N, 3, 2)\n",
    "    emb = emb.view(-1, WINDOW*EMB_SIZE) #  concat by tokens -> (N , 6) \n",
    "\n",
    "    h = torch.tanh(emb @ hidden_W + hidden_b)\n",
    "    logits = h @ out_W + out_b\n",
    "\n",
    "    # counts = logits.exp()\n",
    "    # prob = counts / counts.sum(1, keepdims=True)\n",
    "    # loss = - prob[torch.arange(len(X)) , Y].log().mean()\n",
    "    loss = F.cross_entropy(logits, Y[ixs])\n",
    "    (epoch % 50 == 0) and print(f'{loss.data=}')\n",
    "    \n",
    "    # training\n",
    "    for p in parameters:\n",
    "        p.grad = None\n",
    "    loss.backward()\n",
    "\n",
    "    #update\n",
    "    for p in parameters:\n",
    "        p.data += -LR * p.grad\n",
    "\n"
   ]
  },
  {
   "attachments": {},
   "cell_type": "markdown",
   "metadata": {},
   "source": [
    "**prob** : \n",
    "∀ contex os size WINDOW, prob ⇛ vocab distribution (of the next element)\n",
    "\n",
    "The idea is to train it so that it matchs Y"
   ]
  },
  {
   "cell_type": "code",
   "execution_count": 45,
   "metadata": {},
   "outputs": [
    {
     "data": {
      "text/plain": [
       "torch.Size([228146, 3])"
      ]
     },
     "execution_count": 45,
     "metadata": {},
     "output_type": "execute_result"
    }
   ],
   "source": [
    "X.shape"
   ]
  },
  {
   "cell_type": "code",
   "execution_count": 28,
   "metadata": {},
   "outputs": [
    {
     "data": {
      "text/plain": [
       "3481"
      ]
     },
     "execution_count": 28,
     "metadata": {},
     "output_type": "execute_result"
    }
   ],
   "source": [
    "sum(p.nelement() for p in [C, hidden_W, hidden_b, out_W, out_b])"
   ]
  },
  {
   "cell_type": "code",
   "execution_count": 53,
   "metadata": {},
   "outputs": [
    {
     "data": {
      "text/plain": [
       "tensor([0.0010, 0.0022, 0.0046, 0.0100, 0.0215, 0.0464, 0.1000, 0.2154, 0.4642,\n",
       "        1.0000])"
      ]
     },
     "execution_count": 53,
     "metadata": {},
     "output_type": "execute_result"
    }
   ],
   "source": [
    "lre = torch.linspace(-3, 0, 10)\n",
    "lrs = 10**lre\n",
    "lrs"
   ]
  },
  {
   "cell_type": "code",
   "execution_count": null,
   "metadata": {},
   "outputs": [],
   "source": []
  }
 ],
 "metadata": {
  "kernelspec": {
   "display_name": "venvai",
   "language": "python",
   "name": "python3"
  },
  "language_info": {
   "codemirror_mode": {
    "name": "ipython",
    "version": 3
   },
   "file_extension": ".py",
   "mimetype": "text/x-python",
   "name": "python",
   "nbconvert_exporter": "python",
   "pygments_lexer": "ipython3",
   "version": "3.10.6"
  },
  "vscode": {
   "interpreter": {
    "hash": "0159b81555e194df7357f3ec66ac7a725116f7bdd06d05856166e90d27da3b92"
   }
  }
 },
 "nbformat": 4,
 "nbformat_minor": 4
}
