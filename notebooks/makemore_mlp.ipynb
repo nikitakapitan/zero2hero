{
 "cells": [
  {
   "attachments": {},
   "cell_type": "markdown",
   "metadata": {},
   "source": [
    "## In this Colab we:\n",
    "1. import list of latin names (ex. emma, justin etc.)\n",
    "2. prepare & encode data\n",
    "    - 'emma' : [e  m  m] -> [a]\n",
    "    - tensor : [5 13 13] -> [1]\n",
    "    - split train-dev-test\n",
    "3. initialize trainable embedding matrix C.shape = [vocab_size(27) , **EMB_SIZE** (2)]\n",
    "    - map any of 27 letter encodings to its embedding. ex. [0] -> [0.1488, 2.1415]\n",
    "4. Initialize trainable architecture:\n",
    "    - h = tanh(emb @ hidden_W + hidden_b)\n",
    "    - logits = h @ out_W + out_b\n",
    "    - F.cross_entropy(logits, Y_true)\n",
    "5. train for **N_EPOCHS**\n",
    "\n",
    "## Result:\n",
    "- 1\n",
    "- 2"
   ]
  },
  {
   "cell_type": "code",
   "execution_count": 7,
   "metadata": {},
   "outputs": [],
   "source": [
    "import torch\n",
    "import torch.nn.functional as F\n",
    "import matplotlib.pyplot as plt\n",
    "from sklearn.model_selection import train_test_split\n"
   ]
  },
  {
   "cell_type": "code",
   "execution_count": 74,
   "metadata": {},
   "outputs": [],
   "source": [
    "WINDOW = 3          # how many previous element to consider\n",
    "\n",
    "# architecture\n",
    "EMB_SIZE = 10        # dimention of embedding space\n",
    "HIDDEN_SIZE = 200   # size of hidden layer\n",
    "# training\n",
    "LR = 0.1\n",
    "N_EPOCHS = 100000\n",
    "BATCH_SIZE = 64\n",
    "\n",
    "loglossi = []"
   ]
  },
  {
   "cell_type": "code",
   "execution_count": 68,
   "metadata": {},
   "outputs": [
    {
     "name": "stdout",
     "output_type": "stream",
     "text": [
      "len(words)=32033\n"
     ]
    },
    {
     "data": {
      "text/plain": [
       "['emma', 'olivia', 'ava', 'isabella', 'sophia', 'charlotte', 'mia']"
      ]
     },
     "execution_count": 68,
     "metadata": {},
     "output_type": "execute_result"
    }
   ],
   "source": [
    "words = open('../docs/names.txt', 'r').read().splitlines()\n",
    "print(f'{len(words)=}')\n",
    "words[:7]"
   ]
  },
  {
   "cell_type": "code",
   "execution_count": 69,
   "metadata": {},
   "outputs": [],
   "source": [
    "# build vocab + vLook-Up tables\n",
    "chars = sorted(list(set(''.join(words))))\n",
    "stoi = {s:i+1 for i,s in enumerate(chars)}\n",
    "stoi['.'] = 0\n",
    "itos = {i:s for s,i in stoi.items()}\n",
    "\n",
    "vocab_size = len(chars + ['.'])"
   ]
  },
  {
   "cell_type": "code",
   "execution_count": 70,
   "metadata": {},
   "outputs": [
    {
     "name": "stdout",
     "output_type": "stream",
     "text": [
      "Example X[0]: \n",
      "tensor([0, 0, 0]) -> 5\n",
      "\n",
      "X_train.shape=torch.Size([184797, 3]) \n",
      "y_train.shape=torch.Size([184797])\n"
     ]
    }
   ],
   "source": [
    "# BUILD DATA given WINDOW size\n",
    "\n",
    "# example 'emma', WINDOW == 3\n",
    "# context -> output  |  torch.tensor:\n",
    "#  [...]  -> 'e'     |  [ 0, 0, 0] -> [5]\n",
    "#  [..e]  -> 'm'     |  [ 0, 0, 5] -> [13]\n",
    "#  [.em]  -> 'm'     |  [ 0, 5,13] -> [13]\n",
    "#  [emm]  -> 'a'     |  [ 5,13,13] -> [1]\n",
    "#  [mma]  -> '.'     |  [13,13, 1] -> [0]\n",
    "\n",
    "\n",
    "X, Y = [], []\n",
    "\n",
    "for w in words:\n",
    "\n",
    "    context = [0] * WINDOW\n",
    "    for ch in w + '.' :\n",
    "        ix = stoi[ch]\n",
    "        X.append(context)\n",
    "        Y.append(ix)\n",
    "\n",
    "        context = context[1:] + [ix] # update context\n",
    "\n",
    "X = torch.tensor(X)\n",
    "Y = torch.tensor(Y)\n",
    "\n",
    "X_train, X_test, y_train, y_test = train_test_split(X, Y, test_size=0.1, random_state=42)\n",
    "X_train, X_dev, y_train, y_dev = train_test_split(X_train, y_train, test_size=0.1, random_state=42)\n",
    "\n",
    "print(f'Example X[0]: \\n{X[0]} -> {Y[0]}\\n')\n",
    "print(f'{X_train.shape=} \\n{y_train.shape=}')"
   ]
  },
  {
   "attachments": {},
   "cell_type": "markdown",
   "metadata": {},
   "source": [
    "### Create simple Embeddings & Neural Network"
   ]
  },
  {
   "cell_type": "code",
   "execution_count": 71,
   "metadata": {},
   "outputs": [],
   "source": [
    "g = torch.Generator().manual_seed(2147483647)\n",
    "\n",
    "# BUILD EMBEDDINGS (aka vlook-up)\n",
    "C = torch.randn((vocab_size,EMB_SIZE))                 # untrained\n",
    "\n",
    "# BUILD HIDDEN LAYER\n",
    "hidden_W = torch.randn((WINDOW*EMB_SIZE, HIDDEN_SIZE)) # untrained\n",
    "hidden_b = torch.randn(HIDDEN_SIZE)                    # untrained\n",
    "\n",
    "# BUILD OUT LAYER\n",
    "out_W = torch.randn((HIDDEN_SIZE, vocab_size))         # untrained\n",
    "out_b = torch.randn(vocab_size)                        # untrained\n",
    "\n",
    "parameters = [C, hidden_W, hidden_b, out_W, out_b]\n",
    "for p in parameters:\n",
    "    p.requires_grad = True\n",
    "\n",
    "print('Total number of parameters:')\n",
    "sum(p.nelement() for p in [C, hidden_W, hidden_b, out_W, out_b])"
   ]
  },
  {
   "cell_type": "code",
   "execution_count": 77,
   "metadata": {},
   "outputs": [
    {
     "name": "stdout",
     "output_type": "stream",
     "text": [
      "Train loss.data=tensor(2.0680)\n"
     ]
    }
   ],
   "source": [
    "for epoch in range(N_EPOCHS):\n",
    "\n",
    "    # -------- Forward-pass ---------------\n",
    "\n",
    "    # mini batch\n",
    "    ixs = torch.randint(0, X_train.shape[0], (BATCH_SIZE,))\n",
    "\n",
    "    # train embeddings\n",
    "    emb = C[X_train[ixs]]                          # (N, 3, 2)\n",
    "    emb = emb.view(-1, WINDOW*EMB_SIZE) #  concat by tokens -> (N , 6) \n",
    "\n",
    "    # train Hidden Layer\n",
    "    h = torch.tanh(emb @ hidden_W + hidden_b)\n",
    "    # train Output Layer\n",
    "    logits = h @ out_W + out_b\n",
    "\n",
    "    # counts = logits.exp()\n",
    "    # prob = counts / counts.sum(1, keepdims=True)\n",
    "    # loss = - prob[torch.arange(len(X)) , Y].log().mean()\n",
    "    loss = F.cross_entropy(logits, y_train[ixs])\n",
    "    loglossi.append(loss.log10().item())\n",
    "    \n",
    "    # training\n",
    "    for p in parameters:\n",
    "        p.grad = None\n",
    "    loss.backward()\n",
    "\n",
    "    #update\n",
    "    for p in parameters:\n",
    "        p.data += -0.01 * p.grad\n",
    "\n",
    "# train loss\n",
    "emb = C[X_train]\n",
    "emb = emb.view(-1, WINDOW*EMB_SIZE)\n",
    "h = torch.tanh(emb @ hidden_W + hidden_b)\n",
    "logits = h @ out_W + out_b\n",
    "loss = F.cross_entropy(logits, y_train)\n",
    "print(f'Train {loss.data=}')"
   ]
  },
  {
   "cell_type": "code",
   "execution_count": 79,
   "metadata": {},
   "outputs": [
    {
     "data": {
      "text/plain": [
       "Text(0, 0.5, 'CE LOG-loss')"
      ]
     },
     "execution_count": 79,
     "metadata": {},
     "output_type": "execute_result"
    },
    {
     "data": {
      "image/png": "[encoded data removed]",
      "text/plain": [
       "<Figure size 640x480 with 1 Axes>"
      ]
     },
     "metadata": {},
     "output_type": "display_data"
    }
   ],
   "source": [
    "plt.plot(range(len(loglossi)), loglossi)\n",
    "plt.title('Training')\n",
    "plt.xlabel('epoch')\n",
    "plt.ylabel('CE LOG-loss')"
   ]
  },
  {
   "cell_type": "code",
   "execution_count": 80,
   "metadata": {},
   "outputs": [],
   "source": [
    "if EMB_SIZE == 2:\n",
    "    plt.scatter(C[:,0].data, C[:,1].data, s=200)\n",
    "    for i in range(C.shape[0]):\n",
    "        plt.text(C[i,0].item(), C[i,1].item(), itos[i], \n",
    "        ha='center', va='center', color='white')\n",
    "    plt.grid('sinor')"
   ]
  },
  {
   "cell_type": "code",
   "execution_count": 81,
   "metadata": {},
   "outputs": [
    {
     "name": "stdout",
     "output_type": "stream",
     "text": [
      "Dev loss.data=tensor(2.1305)\n"
     ]
    }
   ],
   "source": [
    "# dev\n",
    "emb = C[X_dev]\n",
    "emb = emb.view(-1, WINDOW*EMB_SIZE)\n",
    "h = torch.tanh(emb @ hidden_W + hidden_b)\n",
    "logits = h @ out_W + out_b\n",
    "loss = F.cross_entropy(logits, y_dev)\n",
    "print(f'Dev {loss.data=}')"
   ]
  },
  {
   "cell_type": "code",
   "execution_count": null,
   "metadata": {},
   "outputs": [],
   "source": []
  }
 ],
 "metadata": {
  "kernelspec": {
   "display_name": "venvai",
   "language": "python",
   "name": "python3"
  },
  "language_info": {
   "codemirror_mode": {
    "name": "ipython",
    "version": 3
   },
   "file_extension": ".py",
   "mimetype": "text/x-python",
   "name": "python",
   "nbconvert_exporter": "python",
   "pygments_lexer": "ipython3",
   "version": "3.10.6"
  },
  "vscode": {
   "interpreter": {
    "hash": "0159b81555e194df7357f3ec66ac7a725116f7bdd06d05856166e90d27da3b92"
   }
  }
 },
 "nbformat": 4,
 "nbformat_minor": 4
}
